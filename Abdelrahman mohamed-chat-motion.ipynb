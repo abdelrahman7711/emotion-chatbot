{
  "nbformat": 4,
  "nbformat_minor": 0,
  "metadata": {
    "colab": {
      "provenance": [],
      "gpuType": "T4"
    },
    "kernelspec": {
      "name": "python3",
      "display_name": "Python 3"
    },
    "language_info": {
      "name": "python"
    },
    "accelerator": "GPU"
  },
  "cells": [
    {
      "cell_type": "markdown",
      "source": [
        "# ==================== 1. Install ===================="
      ],
      "metadata": {
        "id": "_GJi1d38pweB"
      }
    },
    {
      "cell_type": "code",
      "execution_count": 1,
      "metadata": {
        "id": "meucmqWMJ1Bn"
      },
      "outputs": [],
      "source": [
        "\n",
        "!pip install transformers datasets sentence-transformers faiss-cpu streamlit pyngrok --quiet\n"
      ]
    },
    {
      "cell_type": "markdown",
      "source": [
        "# ==================== 2. Imports ===================="
      ],
      "metadata": {
        "id": "PfmLkfRrp10e"
      }
    },
    {
      "cell_type": "code",
      "source": [
        "\n",
        "import streamlit as st\n",
        "from transformers import AutoTokenizer, AutoModelForSequenceClassification, pipeline\n",
        "from datasets import load_dataset\n",
        "from sentence_transformers import SentenceTransformer\n",
        "import faiss\n",
        "import numpy as np\n"
      ],
      "metadata": {
        "id": "9LyH-TrJKN3l"
      },
      "execution_count": 2,
      "outputs": []
    },
    {
      "cell_type": "markdown",
      "source": [
        "# ==================== 3. Load Emotion Dataset ===================="
      ],
      "metadata": {
        "id": "26HA4v0mp9Ej"
      }
    },
    {
      "cell_type": "code",
      "source": [
        "\n",
        "dataset = load_dataset(\"tweet_eval\", \"emotion\")\n",
        "\n",
        "# نجهز train/test (ناخد عينة صغيرة للتجربة)\n",
        "train_data = dataset[\"train\"].shuffle(seed=42).select(range(500))\n",
        "test_data = dataset[\"test\"].shuffle(seed=42).select(range(10))  # 10 أسئلة للتست\n"
      ],
      "metadata": {
        "colab": {
          "base_uri": "https://localhost:8080/"
        },
        "id": "Wv0PfBYVKQSR",
        "outputId": "48d5467f-14db-44b2-cb98-d28c31f74ea3"
      },
      "execution_count": 3,
      "outputs": [
        {
          "output_type": "stream",
          "name": "stderr",
          "text": [
            "/usr/local/lib/python3.12/dist-packages/huggingface_hub/utils/_auth.py:94: UserWarning: \n",
            "The secret `HF_TOKEN` does not exist in your Colab secrets.\n",
            "To authenticate with the Hugging Face Hub, create a token in your settings tab (https://huggingface.co/settings/tokens), set it as secret in your Google Colab and restart your session.\n",
            "You will be able to reuse this secret in all of your notebooks.\n",
            "Please note that authentication is recommended but still optional to access public models or datasets.\n",
            "  warnings.warn(\n"
          ]
        }
      ]
    },
    {
      "cell_type": "markdown",
      "source": [
        "# ==================== 4. Load Emotion Detection Model ===================="
      ],
      "metadata": {
        "id": "_X5GHVNeqVL0"
      }
    },
    {
      "cell_type": "code",
      "source": [
        "model_name = \"bhadresh-savani/distilbert-base-uncased-emotion\"\n",
        "classifier = pipeline(\"text-classification\", model=model_name, return_all_scores=True)\n"
      ],
      "metadata": {
        "colab": {
          "base_uri": "https://localhost:8080/"
        },
        "id": "kbWlEIqeKTSq",
        "outputId": "7a440262-7b89-4c57-deac-8b2acbfa6484"
      },
      "execution_count": 4,
      "outputs": [
        {
          "output_type": "stream",
          "name": "stderr",
          "text": [
            "Device set to use cuda:0\n",
            "/usr/local/lib/python3.12/dist-packages/transformers/pipelines/text_classification.py:111: UserWarning: `return_all_scores` is now deprecated,  if want a similar functionality use `top_k=None` instead of `return_all_scores=True` or `top_k=1` instead of `return_all_scores=False`.\n",
            "  warnings.warn(\n"
          ]
        }
      ]
    },
    {
      "cell_type": "markdown",
      "source": [
        "# ==================== 5. Build RAG Corpus ===================="
      ],
      "metadata": {
        "id": "3Dk3la6jqXrp"
      }
    },
    {
      "cell_type": "code",
      "source": [
        "corpus = {\n",
        "    \"sadness\": [\n",
        "        \"I'm really sorry you're feeling this way. Want to talk about it?\",\n",
        "        \"It's okay to feel sad sometimes, I'm here for you.\",\n",
        "        \"I hear you. That sounds really tough.\"\n",
        "    ],\n",
        "    \"joy\": [\n",
        "        \"That's wonderful! What made you so happy?\",\n",
        "        \"I’m glad to hear that! Keep smiling!\",\n",
        "        \"That’s amazing! Tell me more about it.\"\n",
        "    ],\n",
        "    \"anger\": [\n",
        "        \"I can sense your frustration. Want to share more?\",\n",
        "        \"It's normal to feel angry sometimes. What triggered it?\",\n",
        "        \"Take a deep breath, I’m listening.\"\n",
        "    ],\n",
        "    \"fear\": [\n",
        "        \"It’s okay to feel scared, you’re not alone.\",\n",
        "        \"I understand, that must feel overwhelming.\",\n",
        "        \"Want to talk about what’s worrying you?\"\n",
        "    ],\n",
        "    \"love\": [\n",
        "        \"That’s beautiful! Love is such a strong emotion.\",\n",
        "        \"It sounds like you care deeply. That’s wonderful.\",\n",
        "        \"Love can be so powerful. Tell me more!\"\n",
        "    ],\n",
        "    \"surprise\": [\n",
        "        \"Wow, that sounds surprising indeed!\",\n",
        "        \"Really? That must have been unexpected!\",\n",
        "        \"That’s quite something! How did you feel about it?\"\n",
        "    ]\n",
        "}\n",
        "\n",
        "# Convert corpus to documents list\n",
        "documents = []\n",
        "labels = []\n",
        "for emotion, responses in corpus.items():\n",
        "    for resp in responses:\n",
        "        documents.append(resp)\n",
        "        labels.append(emotion)\n"
      ],
      "metadata": {
        "id": "Ili8dl7JKWRy"
      },
      "execution_count": 5,
      "outputs": []
    },
    {
      "cell_type": "markdown",
      "source": [
        "# ==================== 6. Embedding + FAISS ===================="
      ],
      "metadata": {
        "id": "HRemWFi2qagN"
      }
    },
    {
      "cell_type": "code",
      "source": [
        "embedder = SentenceTransformer(\"all-MiniLM-L6-v2\")\n",
        "doc_embeddings = embedder.encode(documents)\n",
        "\n",
        "index = faiss.IndexFlatL2(doc_embeddings.shape[1])\n",
        "index.add(np.array(doc_embeddings))\n",
        "\n",
        "def retrieve_response(emotion, query, k=3):\n",
        "    query_emb = embedder.encode([query])\n",
        "    distances, indices = index.search(query_emb, k)\n",
        "    results = [documents[i] for i in indices[0] if labels[i] == emotion]\n",
        "    return results if results else [documents[indices[0][0]]]\n"
      ],
      "metadata": {
        "id": "QDr5_w6MKluD"
      },
      "execution_count": 6,
      "outputs": []
    },
    {
      "cell_type": "markdown",
      "source": [
        "# ==================== 7. Few-Shot Prompt ====================\n"
      ],
      "metadata": {
        "id": "ne5m2ao3ptSo"
      }
    },
    {
      "cell_type": "code",
      "source": [
        "\n",
        "few_shot_examples = [\n",
        "    {\"q\": \"I'm so sad today\", \"a\": \"I'm sorry you're going through this. Want to share more?\"},\n",
        "    {\"q\": \"I feel really happy!\", \"a\": \"That's amazing! What’s bringing you joy?\"},\n",
        "    {\"q\": \"I'm so angry right now\", \"a\": \"I understand, anger is tough. Want to talk about what happened?\"}\n",
        "]\n",
        "\n",
        "def build_prompt(user_msg, emotion, retrieved):\n",
        "    prompt = \"The user is feeling \" + emotion + \". Respond empathetically.\\n\\n\"\n",
        "    for ex in few_shot_examples:\n",
        "        prompt += f\"User: {ex['q']}\\nBot: {ex['a']}\\n\\n\"\n",
        "    prompt += f\"User: {user_msg}\\nBot: {retrieved[0]}\"\n",
        "    return prompt\n"
      ],
      "metadata": {
        "id": "2JMyIjjXKsNN"
      },
      "execution_count": 7,
      "outputs": []
    },
    {
      "cell_type": "markdown",
      "source": [
        "# ==================== 8. Streamlit UI ====================\n"
      ],
      "metadata": {
        "id": "zvPy9AiZpoEI"
      }
    },
    {
      "cell_type": "code",
      "source": [
        "%%writefile app.py\n",
        "import streamlit as st\n",
        "from transformers import pipeline\n",
        "from sentence_transformers import SentenceTransformer\n",
        "import faiss, numpy as np\n",
        "\n",
        "# Re-load lightweight components inside Streamlit\n",
        "emotion_model = pipeline(\"text-classification\", model=\"bhadresh-savani/distilbert-base-uncased-emotion\", return_all_scores=True)\n",
        "embedder = SentenceTransformer(\"all-MiniLM-L6-v2\")\n",
        "\n",
        "\n",
        "\n",
        "corpus = {\n",
        "    \"sadness\": [\n",
        "        \"I'm really sorry you're feeling this way. Want to talk about it?\",\n",
        "        \"It's okay to feel sad sometimes, I'm here for you.\",\n",
        "        \"I hear you. That sounds really tough.\",\n",
        "        \"I understand, it must be heavy on you.\",\n",
        "        \"Sending you strength, you’re not alone in this.\",\n",
        "        \"Your feelings are valid. Take your time to heal.\",\n",
        "        \"I’m here to listen whenever you want to share more.\"\n",
        "    ],\n",
        "    \"joy\": [\n",
        "        \"That's wonderful! What made you so happy?\",\n",
        "        \"I’m glad to hear that! Keep smiling!\",\n",
        "        \"That’s amazing! Tell me more about it.\",\n",
        "        \"I love hearing good news from you!\",\n",
        "        \"It sounds like you’re really enjoying yourself!\",\n",
        "        \"That’s fantastic! I’m happy for you.\",\n",
        "        \"Joy like this is contagious—thank you for sharing!\"\n",
        "    ],\n",
        "    \"anger\": [\n",
        "        \"I can sense your frustration. Want to share more?\",\n",
        "        \"It's normal to feel angry sometimes. What triggered it?\",\n",
        "        \"Take a deep breath, I’m listening.\",\n",
        "        \"I understand, anger can be overwhelming.\",\n",
        "        \"It’s okay to vent, I’m here to hear you out.\",\n",
        "        \"I hear your frustration—want to talk about a solution?\",\n",
        "        \"It must be tough dealing with this, I get it.\"\n",
        "    ],\n",
        "    \"fear\": [\n",
        "        \"It’s okay to feel scared, you’re not alone.\",\n",
        "        \"I understand, that must feel overwhelming.\",\n",
        "        \"Want to talk about what’s worrying you?\",\n",
        "        \"Sometimes fear can feel paralyzing, I hear you.\",\n",
        "        \"You’re safe here, take a breath.\",\n",
        "        \"I know it’s not easy, but you’re stronger than you think.\",\n",
        "        \"It’s completely natural to feel this way.\"\n",
        "    ],\n",
        "    \"love\": [\n",
        "        \"That’s beautiful! Love is such a strong emotion.\",\n",
        "        \"It sounds like you care deeply. That’s wonderful.\",\n",
        "        \"Love can be so powerful. Tell me more!\",\n",
        "        \"That’s sweet—love makes life brighter.\",\n",
        "        \"I can feel the warmth in your words.\",\n",
        "        \"Cherishing love is one of the best things we can do.\",\n",
        "        \"That’s amazing, love truly brings joy.\"\n",
        "    ],\n",
        "    \"surprise\": [\n",
        "        \"Wow, that sounds surprising indeed!\",\n",
        "        \"Really? That must have been unexpected!\",\n",
        "        \"That’s quite something! How did you feel about it?\",\n",
        "        \"I wasn’t expecting that either—amazing!\",\n",
        "        \"Life can be full of surprises, right?\",\n",
        "        \"That must have caught you off guard.\",\n",
        "        \"Sounds exciting! What happened next?\"\n",
        "    ],\n",
        "    \"disgust\": [\n",
        "        \"That sounds really unpleasant, I understand your reaction.\",\n",
        "        \"I can see why you’d feel disgusted.\",\n",
        "        \"It must have been uncomfortable to deal with.\",\n",
        "        \"That reaction is completely natural.\",\n",
        "        \"I hear you, it doesn’t sound nice at all.\",\n",
        "        \"Your feelings are valid—it’s okay to feel this way.\",\n",
        "        \"That situation would upset anyone.\"\n",
        "    ],\n",
        "    \"optimism\": [\n",
        "        \"I love your positive outlook! Keep it up.\",\n",
        "        \"That’s a great way to see things.\",\n",
        "        \"Staying hopeful can make a big difference.\",\n",
        "        \"I admire your optimism—it’s inspiring.\",\n",
        "        \"That mindset will help you move forward.\",\n",
        "        \"It’s wonderful that you can see the bright side.\",\n",
        "        \"Keep believing in yourself!\"\n",
        "    ],\n",
        "    \"neutral\": [\n",
        "        \"Thanks for sharing that with me.\",\n",
        "        \"I hear you—tell me more.\",\n",
        "        \"That’s interesting, I’d like to understand better.\",\n",
        "        \"I appreciate you opening up.\",\n",
        "        \"I’m listening—want to go deeper?\",\n",
        "        \"Okay, I get what you’re saying.\",\n",
        "        \"That makes sense, thanks for explaining.\"\n",
        "    ]\n",
        "}\n",
        "\n",
        "documents = []\n",
        "labels = []\n",
        "for emotion, responses in corpus.items():\n",
        "    for resp in responses:\n",
        "        documents.append(resp)\n",
        "        labels.append(emotion)\n",
        "\n",
        "doc_embeddings = embedder.encode(documents)\n",
        "index = faiss.IndexFlatL2(doc_embeddings.shape[1])\n",
        "index.add(np.array(doc_embeddings))\n",
        "\n",
        "def retrieve_response(emotion, query, k=3):\n",
        "    query_emb = embedder.encode([query])\n",
        "    distances, indices = index.search(query_emb, k)\n",
        "    results = [documents[i] for i in indices[0] if labels[i] == emotion]\n",
        "    return results if results else [documents[indices[0][0]]]\n",
        "\n",
        "st.set_page_config(page_title=\"EmpathyBot 💙\")\n",
        "st.title(\"EmpathyBot: Sentiment-Driven Chat 🤖\")\n",
        "\n",
        "if \"history\" not in st.session_state:\n",
        "    st.session_state.history = []\n",
        "\n",
        "user_input = st.text_input(\"💬 Your message:\")\n",
        "\n",
        "if st.button(\"Send\"):\n",
        "    if user_input.strip():\n",
        "        emotion_pred = emotion_model(user_input)\n",
        "        top_emotion = max(emotion_pred[0], key=lambda x: x[\"score\"])[\"label\"]\n",
        "        retrieved = retrieve_response(top_emotion, user_input)\n",
        "        bot_answer = retrieved[0] + \" (Disclaimer: I’m not a therapist.)\"\n",
        "        st.session_state.history.append((\"User\", user_input))\n",
        "        st.session_state.history.append((\"Bot\", bot_answer))\n",
        "\n",
        "for speaker, msg in st.session_state.history:\n",
        "    if speaker == \"User\":\n",
        "        st.markdown(f\"**🧑 You:** {msg}\")\n",
        "    else:\n",
        "        st.markdown(f\"**🤖 Bot:** {msg}\")\n"
      ],
      "metadata": {
        "colab": {
          "base_uri": "https://localhost:8080/"
        },
        "id": "UR4rLre-KvK-",
        "outputId": "f7c5b853-cf8a-47e6-900b-a8dcbbe3231a"
      },
      "execution_count": 10,
      "outputs": [
        {
          "output_type": "stream",
          "name": "stdout",
          "text": [
            "Overwriting app.py\n"
          ]
        }
      ]
    },
    {
      "cell_type": "markdown",
      "source": [
        "# ==================== 10. Run Streamlit with Ngrok ===================="
      ],
      "metadata": {
        "id": "gEeqKN8kqd43"
      }
    },
    {
      "cell_type": "code",
      "source": [
        "# ==================== 10. Run Streamlit with Ngrok ====================\n",
        "!ngrok config add-authtoken 32QbKiExvplbbxkT3iJv6kvUElc_5vEnyioVbkr2HUk27C3Sw   # ضع التوكن بتاع ngrok هنا\n",
        "!streamlit run app.py --server.port 7860 &>/dev/null&\n",
        "\n",
        "from pyngrok import ngrok\n",
        "ngrok.kill()  # اقفل كل الأنفاق المفتوحة\n",
        "public_url = ngrok.connect(7860)\n",
        "print(\"🔥 Streamlit URL:\", public_url)\n"
      ],
      "metadata": {
        "colab": {
          "base_uri": "https://localhost:8080/"
        },
        "id": "XpJWeSpjLMqQ",
        "outputId": "54cd6091-af83-48bc-eba8-dca9aab4663d"
      },
      "execution_count": 11,
      "outputs": [
        {
          "output_type": "stream",
          "name": "stdout",
          "text": [
            "Authtoken saved to configuration file: /root/.config/ngrok/ngrok.yml\n",
            "🔥 Streamlit URL: NgrokTunnel: \"https://9188986aab0e.ngrok-free.app\" -> \"http://localhost:7860\"\n"
          ]
        }
      ]
    },
    {
      "cell_type": "code",
      "source": [],
      "metadata": {
        "id": "SgfCBleiLvZE"
      },
      "execution_count": 9,
      "outputs": []
    }
  ]
}